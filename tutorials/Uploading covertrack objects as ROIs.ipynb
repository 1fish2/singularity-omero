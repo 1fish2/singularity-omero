{
 "cells": [
  {
   "cell_type": "markdown",
   "metadata": {},
   "source": [
    "## Dependencies\n",
    "View installation instructions for the OMERO library on the [OME website](https://www.openmicroscopy.org/site/support/omero5.2/developers/Python.html)."
   ]
  },
  {
   "cell_type": "code",
   "execution_count": 23,
   "metadata": {
    "collapsed": true
   },
   "outputs": [],
   "source": [
    "%matplotlib inline\n",
    "\n",
    "from collections import defaultdict\n",
    "import math\n",
    "import os\n",
    "import re\n",
    "import struct\n",
    "\n",
    "import matplotlib.pyplot as plt\n",
    "import numpy as np\n",
    "from scipy.ndimage import imread\n",
    "from skimage.measure import regionprops\n",
    "\n",
    "import omero\n",
    "from omero.gateway import BlitzGateway\n",
    "from omero.rtypes import rdouble, rint"
   ]
  },
  {
   "cell_type": "markdown",
   "metadata": {},
   "source": [
    "## Connect to the OMERO server\n",
    "First, we connect to the OMERO server instance. Replace the username and password credentials with your own, and if necessary, set the correct host and port of the OMERO server."
   ]
  },
  {
   "cell_type": "code",
   "execution_count": 24,
   "metadata": {
    "collapsed": false
   },
   "outputs": [],
   "source": [
    "username = 'root'\n",
    "password = 'password'\n",
    "\n",
    "conn = BlitzGateway(username, password, host='localhost', port=4064, secure=True)\n",
    "conn.connect()\n",
    "\n",
    "roi_service = conn.getRoiService()\n",
    "update_service = conn.getUpdateService()"
   ]
  },
  {
   "cell_type": "markdown",
   "metadata": {},
   "source": [
    "## Choose an image to add ROIs to\n",
    "\n",
    "Below, replace the image ID (can be found in the OMERO web client -- select an image, and look for the ID in the panel on the right of the page, near the top). Also, specify the covertrack object and outline directories for the image."
   ]
  },
  {
   "cell_type": "code",
   "execution_count": 25,
   "metadata": {
    "collapsed": true
   },
   "outputs": [],
   "source": [
    "image_id = 151\n",
    "object_dir = '/home/snguyen/covert/output/20160701/Pos1/objects'\n",
    "outline_dir = '/home/snguyen/covert/output/20160701/Pos1/outlines'"
   ]
  },
  {
   "cell_type": "code",
   "execution_count": 26,
   "metadata": {
    "collapsed": false
   },
   "outputs": [],
   "source": [
    "def get_plane(filename):\n",
    "    pattern = re.compile('^img_channel(?P<c>\\d{3})_position\\d{3}_time(?P<t>\\d{9})_z(?P<z>\\d{3})_(?P<obj_type>.+)\\.png$')\n",
    "    match = pattern.match(object_file)\n",
    "    c = int(match.group('c'))\n",
    "    t = int(match.group('t'))\n",
    "    z = int(match.group('z'))\n",
    "    obj_type = match.group('obj_type')\n",
    "    \n",
    "    return z, t, c, obj_type\n",
    "\n",
    "\n",
    "def create_mask_bytes(mask_img, bytes_per_pixel=1):\n",
    "    mask_bytes = mask_img.astype(np.uint8).tostring()\n",
    "    \n",
    "    # From https://github.com/openmicroscopy/openmicroscopy/blob/v5.2.7/examples/Training/python/ROIs.py#L115\n",
    "    if bytes_per_pixel == 2:\n",
    "        divider = 16.0\n",
    "        format_string = \"H\"  # Unsigned short\n",
    "        byte_factor = 0.5\n",
    "    elif bytes_per_pixel == 1:\n",
    "        divider = 8.0\n",
    "        format_string = \"B\"  # Unsigned char\n",
    "        byte_factor = 1\n",
    "    else:\n",
    "        message = \"Format %s not supported\"\n",
    "        raise ValueError(message)\n",
    "    steps = math.ceil(len(mask_bytes) / divider)\n",
    "    mask = []\n",
    "    for i in range(long(steps)):\n",
    "        binary = mask_bytes[\n",
    "            i * int(divider):i * int(divider) + int(divider)]\n",
    "        format = str(int(byte_factor * len(binary))) + format_string\n",
    "        binary = struct.unpack(format, binary)\n",
    "        s = \"\"\n",
    "        for bit in binary:\n",
    "            s += str(bit)\n",
    "        mask.append(int(s, 2))\n",
    "    return bytearray(mask)\n",
    "\n",
    "\n",
    "def create_omero_mask(mask_img, bounding_box, z, t, c):\n",
    "    min_x, min_y, max_x, max_y = bounding_box\n",
    "    \n",
    "    mask = omero.model.MaskI()\n",
    "    mask.setTheC(rint(c))\n",
    "    mask.setTheZ(rint(z))\n",
    "    mask.setTheT(rint(t))\n",
    "    mask.setBytes(create_mask_bytes(mask_img[min_x:max_x, min_y:max_y]))\n",
    "\n",
    "    # This flipping of x and y is required, otherwise the mask ends up mirrored\n",
    "    # across the diagonal of the image.\n",
    "    mask.setX(rdouble(min_y))\n",
    "    mask.setY(rdouble(min_x))\n",
    "    mask.setWidth(rdouble(max_y - min_y))\n",
    "    mask.setHeight(rdouble(max_x - min_x))\n",
    "    \n",
    "    return mask\n",
    "\n",
    "\n",
    "# From https://github.com/openmicroscopy/openmicroscopy/blob/v5.2.7/examples/Training/python/ROIs.py#L54\n",
    "def save_roi(img, shapes):\n",
    "    # create an ROI, link it to Image\n",
    "    roi = omero.model.RoiI()\n",
    "    # use the omero.model.ImageI that underlies the 'image' wrapper\n",
    "    roi.setImage(img._obj)\n",
    "    for shape in shapes:\n",
    "        roi.addShape(shape)\n",
    "    # Save the ROI (saves any linked shapes too)\n",
    "    update_service.saveAndReturnObject(roi)"
   ]
  },
  {
   "cell_type": "markdown",
   "metadata": {},
   "source": [
    "## Add ROIs\n",
    "Simply run the cell below. If you want to add outlines instead of objects, replace `object_dir` with `outline_dir` as the iteration source in the outer `for` loop. This may take some time to run, depending on the number of ROIs and the number of images to process."
   ]
  },
  {
   "cell_type": "code",
   "execution_count": 28,
   "metadata": {
    "collapsed": false
   },
   "outputs": [],
   "source": [
    "# TODO Consider using multiprocessing here. Caution -- defaultdict may not be thread-safe, so \n",
    "# might have to rework the mask storage mechanism a bit.\n",
    "\n",
    "masks = defaultdict(list)\n",
    "max_object_id = None\n",
    "\n",
    "for object_file in sorted(os.listdir(object_dir)):    \n",
    "    z, t, c, obj_type = get_plane(object_file)\n",
    "    objects_mask = imread(os.path.join(object_dir, object_file))\n",
    "    \n",
    "    # FIXME Should there be a max for each object_type / c?\n",
    "    plane_max_object_id = np.max(objects_mask)\n",
    "    max_object_id = plane_max_object_id if max_object_id is None else max(max_object_id, plane_max_object_id)\n",
    "    \n",
    "    for object_id in xrange(1, max_object_id):\n",
    "        object_mask = objects_mask == object_id\n",
    "        if np.max(object_mask) == 1:\n",
    "            regions = regionprops(object_mask.astype(np.int))\n",
    "            if len(regions) != 1:\n",
    "                print 'Warning: multiple regions for object id', object_id\n",
    "            else:\n",
    "                mask = create_omero_mask(object_mask, regions[0].bbox, z, t, c)\n",
    "                masks[object_id].append(mask)\n",
    "\n",
    "                \n",
    "image = conn.getObject('Image', image_id)\n",
    "for object_id in masks:\n",
    "    save_roi(image, masks[object_id])"
   ]
  },
  {
   "cell_type": "markdown",
   "metadata": {},
   "source": [
    "## Delete all ROIs on an image\n"
   ]
  },
  {
   "cell_type": "code",
   "execution_count": 27,
   "metadata": {
    "collapsed": false
   },
   "outputs": [
    {
     "data": {
      "text/plain": [
       "1a794520-abc3-437a-9ef9-e155a20d3406/IHandle11e8faec-cd1e-4df7-8ec7-ffaa11c84db8 -t -e 1.0:tcp -h 10.210.44.34 -p 58651 -t 60000:tcp -h 10.210.30.91 -p 58651 -t 60000"
      ]
     },
     "execution_count": 27,
     "metadata": {},
     "output_type": "execute_result"
    }
   ],
   "source": [
    "result = roi_service.findByImage(image_id, None)\n",
    "conn.deleteObjects('Roi', [roi.id.val for roi in result.rois], wait=True)"
   ]
  },
  {
   "cell_type": "markdown",
   "metadata": {},
   "source": [
    "## More information\n",
    "Further example code can be found on OME's Github repo. Example code for handling ROIs can be found [here](https://github.com/openmicroscopy/openmicroscopy/blob/v5.2.7/examples/Training/python/ROIs.py)."
   ]
  }
 ],
 "metadata": {
  "anaconda-cloud": {},
  "kernelspec": {
   "display_name": "Python [conda env:omero]",
   "language": "python",
   "name": "conda-env-omero-py"
  },
  "language_info": {
   "codemirror_mode": {
    "name": "ipython",
    "version": 2
   },
   "file_extension": ".py",
   "mimetype": "text/x-python",
   "name": "python",
   "nbconvert_exporter": "python",
   "pygments_lexer": "ipython2",
   "version": "2.7.12"
  }
 },
 "nbformat": 4,
 "nbformat_minor": 1
}
